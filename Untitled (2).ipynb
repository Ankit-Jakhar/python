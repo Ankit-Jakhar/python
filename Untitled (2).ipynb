{
 "cells": [
  {
   "cell_type": "code",
   "execution_count": 1,
   "id": "c9969a18-c425-45b5-b941-6c75f5efd3d8",
   "metadata": {},
   "outputs": [],
   "source": [
    "\n",
    "# Nested loop \n",
    "#parent loop (4) -->(0,1,2,3)\n",
    "#child loop (3) --> 0,1,2\n",
    "\n",
    "#step -1 i =0 , j =0\n",
    "# step -2 i =0 , j =1\n",
    "#so on\n",
    "#i =4\n",
    "#i =3\n",
    "#i=o  --> j --> 0,1,2\n",
    "#i=1 --> , j =0,1,2,\n",
    "#i=2 --> , j =0,1,2,\n",
    "#i=3 --> , j =0,1,2,\n"
   ]
  },
  {
   "cell_type": "code",
   "execution_count": 2,
   "id": "2d13da5f-f3d7-4e6a-bf6d-4d99e123df4e",
   "metadata": {},
   "outputs": [
    {
     "name": "stdout",
     "output_type": "stream",
     "text": [
      " i =0 , j =0\n",
      " i =0 , j =1\n",
      " i =0 , j =2\n",
      " i =1 , j =0\n",
      " i =1 , j =1\n",
      " i =1 , j =2\n",
      " i =2 , j =0\n",
      " i =2 , j =1\n",
      " i =2 , j =2\n",
      " i =3 , j =0\n",
      " i =3 , j =1\n",
      " i =3 , j =2\n"
     ]
    }
   ],
   "source": [
    "for i in range(4):\n",
    "    for j in range(3):\n",
    "        print(f\" i ={i} , j ={j}\")"
   ]
  },
  {
   "cell_type": "code",
   "execution_count": 3,
   "id": "2abea0fe-3c07-4cb3-8b87-53feadd84bd6",
   "metadata": {},
   "outputs": [],
   "source": [
    "# pattern "
   ]
  },
  {
   "cell_type": "code",
   "execution_count": null,
   "id": "36a11451-8ce0-45f0-8ec8-a1f2da0a2e65",
   "metadata": {},
   "outputs": [],
   "source": []
  },
  {
   "cell_type": "code",
   "execution_count": 4,
   "id": "7abdcc2d-bb4f-4393-936f-ce43533ca51b",
   "metadata": {},
   "outputs": [
    {
     "name": "stdout",
     "output_type": "stream",
     "text": [
      "-----\n",
      "----\n",
      "---\n",
      "--\n",
      "-\n",
      "\n",
      "-\n",
      "--\n",
      "---\n",
      "----\n",
      "-----\n"
     ]
    }
   ],
   "source": [
    "for i in range(5,0,-1):\n",
    "    print(i * \"-\")\n",
    "for i in range(0,6):\n",
    "     print(i* \"-\")"
   ]
  },
  {
   "cell_type": "code",
   "execution_count": 5,
   "id": "a0c3e119-cb5f-4042-a830-0fa8b69ddc8a",
   "metadata": {},
   "outputs": [
    {
     "name": "stdout",
     "output_type": "stream",
     "text": [
      "-----\n",
      "-- -\n",
      "---\n",
      "--\n",
      "-\n"
     ]
    }
   ],
   "source": [
    "for i in range(5,0,-1):\n",
    "    if (i==4):\n",
    "        print(2*(\"-\")+\" \" +\"-\" )\n",
    "    else :\n",
    "        print(i*\"-\")\n"
   ]
  },
  {
   "cell_type": "code",
   "execution_count": 6,
   "id": "d0d0e32d-db73-4d7d-92f2-de73963fb375",
   "metadata": {},
   "outputs": [
    {
     "name": "stdout",
     "output_type": "stream",
     "text": [
      "-----\n",
      "-- -\n",
      "-\n",
      "--\n",
      "-\n"
     ]
    }
   ],
   "source": [
    "for i in range(5,0,-1):\n",
    "    if (i==4):\n",
    "        print(2*(\"-\")+\" \" +\"-\" )\n",
    "    elif(i==3):\n",
    "        print(1*\"-\")\n",
    "    else :\n",
    "        print(i*\"-\")"
   ]
  },
  {
   "cell_type": "code",
   "execution_count": 7,
   "id": "99f3ab65-5bdf-435e-80d3-411ba476bce7",
   "metadata": {},
   "outputs": [
    {
     "name": "stdout",
     "output_type": "stream",
     "text": [
      "-----\n",
      "-- -\n",
      "-\n",
      "----\n",
      "-----\n"
     ]
    }
   ],
   "source": [
    "for i in range(5,0,-1):\n",
    "    if (i==4):\n",
    "        print(2*(\"-\")+\" \" +\"-\" )\n",
    "    elif(i==3):\n",
    "        print(1*\"-\")\n",
    "    elif(i==2):\n",
    "        print(4*\"-\")\n",
    "    elif(i==1):\n",
    "        print(5*\"-\")\n",
    "    else :\n",
    "        print(i*\"-\")"
   ]
  },
  {
   "cell_type": "markdown",
   "id": "64da7be7-eb45-4e0d-99df-a0b87b9935c2",
   "metadata": {},
   "source": [
    "# hollow right angle"
   ]
  },
  {
   "cell_type": "code",
   "execution_count": 8,
   "id": "e6345f5d-6aa4-42ac-b9d6-f753280fd828",
   "metadata": {},
   "outputs": [
    {
     "name": "stdout",
     "output_type": "stream",
     "text": [
      "*\n",
      "**\n",
      "* *\n",
      "*  *\n",
      "*   *\n",
      "******\n"
     ]
    }
   ],
   "source": [
    "#hollow right angle\n",
    "for i in range(1,7):\n",
    "    if(i==3):\n",
    "        print(\"*\"+\" \" +\"*\")\n",
    "    elif(i==4):\n",
    "          print(\"*\"+2*\" \" +\"*\")\n",
    "    elif(i==5):\n",
    "          print(\"*\"+3*\" \"+\"*\")\n",
    "    else:\n",
    "        print(i*(\"*\"))\n"
   ]
  },
  {
   "cell_type": "code",
   "execution_count": 1,
   "id": "e02dcec5-868e-4591-9f5c-9ad671639945",
   "metadata": {},
   "outputs": [
    {
     "name": "stdout",
     "output_type": "stream",
     "text": [
      "* \n",
      "* * \n",
      "*   * \n",
      "*     * \n",
      "* * * * * \n"
     ]
    }
   ],
   "source": [
    "n = 5\n",
    "\n",
    "for i in range(1, n + 1):\n",
    "    for j in range(1, i + 1):\n",
    "        if j == 1 or j == i or i == n:\n",
    "            print(\"*\", end=\" \")\n",
    "        else:\n",
    "            print(\" \", end=\" \")\n",
    "    print()\n"
   ]
  },
  {
   "cell_type": "code",
   "execution_count": 1,
   "id": "1b5075b1-eca9-4558-98c5-de41445581db",
   "metadata": {},
   "outputs": [
    {
     "name": "stdout",
     "output_type": "stream",
     "text": [
      "* \n",
      "* * \n",
      "*   * \n",
      "*     * \n",
      "* * * * * \n"
     ]
    }
   ],
   "source": [
    "n = 5\n",
    "\n",
    "for i in range(1, n + 1):\n",
    "    for j in range(1, i + 1):\n",
    "        if j == 1 or j == i or i == n:\n",
    "            print(\"*\", end=\" \")\n",
    "        else:\n",
    "            print(\" \", end=\" \")\n",
    "    print()\n",
    "\n"
   ]
  },
  {
   "cell_type": "markdown",
   "id": "8b41c206-861a-4181-883c-de36466d4768",
   "metadata": {},
   "source": [
    "# pyramid pattern"
   ]
  },
  {
   "cell_type": "code",
   "execution_count": 2,
   "id": "b3b32a67-1dd2-4ad5-880e-a8e1d10a159d",
   "metadata": {},
   "outputs": [
    {
     "name": "stdout",
     "output_type": "stream",
     "text": [
      "    *\n",
      "   ***\n",
      "  *****\n",
      " *******\n",
      "*********\n"
     ]
    }
   ],
   "source": [
    "n = 5  \n",
    "\n",
    "for i in range(1, n + 1):\n",
    "    for j in range(n - i):\n",
    "        print(\" \", end=\"\")\n",
    "    for k in range(2 * i - 1):\n",
    "        print(\"*\", end=\"\")\n",
    "    print()  "
   ]
  },
  {
   "cell_type": "markdown",
   "id": "46e1ce80-2cbc-4330-bbc5-8a87388eb08c",
   "metadata": {},
   "source": [
    "# BUTTERFLY PATTERN"
   ]
  },
  {
   "cell_type": "code",
   "execution_count": 3,
   "id": "66410012-53c7-431b-870a-ae2ea5bb4419",
   "metadata": {},
   "outputs": [
    {
     "name": "stdout",
     "output_type": "stream",
     "text": [
      "*        *\n",
      "**      **\n",
      "***    ***\n",
      "****  ****\n",
      "**********\n",
      "****  ****\n",
      "***    ***\n",
      "**      **\n",
      "*        *\n"
     ]
    }
   ],
   "source": [
    "n = 5  \n",
    "\n",
    "\n",
    "for i in range(1, n + 1):\n",
    "\n",
    "    for j in range(i):\n",
    "        print(\"*\", end=\"\")\n",
    "    \n",
    "    for k in range(2 * (n - i)):\n",
    "        print(\" \", end=\"\")\n",
    "\n",
    "\n",
    "    for l in range(i):\n",
    "        print(\"*\", end=\"\")\n",
    "    \n",
    "    print()  \n",
    "\n",
    "\n",
    "for i in range(n-1, 0, -1):\n",
    "    \n",
    "    for j in range(i):\n",
    "        print(\"*\", end=\"\")\n",
    "    \n",
    "    \n",
    "    for K in range(2 * (n - i)):\n",
    "        print(\" \", end=\"\")\n",
    "    \n",
    "\n",
    "    for L in range(i):\n",
    "        print(\"*\", end=\"\")\n",
    "    \n",
    "    print()  "
   ]
  },
  {
   "cell_type": "markdown",
   "id": "162ccc44-35f3-40bb-a7ee-33a0a812083b",
   "metadata": {},
   "source": [
    "# right angle pyramid"
   ]
  },
  {
   "cell_type": "code",
   "execution_count": 4,
   "id": "b408a42a-f6e7-4f24-9402-603fb1ccdd70",
   "metadata": {},
   "outputs": [
    {
     "name": "stdout",
     "output_type": "stream",
     "text": [
      "1 \n",
      "1 2 \n",
      "1 2 3 \n",
      "1 2 3 4 \n",
      "1 2 3 4 5 \n"
     ]
    }
   ],
   "source": [
    "n =5\n",
    "for i in range(1 ,n+1):\n",
    "    for j in range(1 , i+1):\n",
    "        print(j , end =\" \")\n",
    "    print()"
   ]
  },
  {
   "cell_type": "code",
   "execution_count": null,
   "id": "1f4cf491-1601-431c-a4dc-9e8a142faea7",
   "metadata": {},
   "outputs": [],
   "source": [
    "#explanation of right angle pyramid\n",
    "#step-1 --> i =1  , j =(1,2) and j =1\n",
    "#step-2 --> i=2 , j =(1,3) --> j =1,2\n",
    "#step-3 --> i =3 , j=(1,4)--> j =1,2,3\n",
    "#step-4 --> i =4 , j=(1,5) --> j =1,2,3,4\n",
    "#step-5 --> i =5 , j=(1,6) --> j =1,2,3,4,5"
   ]
  },
  {
   "cell_type": "markdown",
   "id": "aec1ed9d-6527-4fab-8b6f-7574c5b3f100",
   "metadata": {},
   "source": [
    "# floyds triangle"
   ]
  },
  {
   "cell_type": "code",
   "execution_count": 5,
   "id": "9b21059e-d746-4662-9b60-c34cc9d31709",
   "metadata": {},
   "outputs": [
    {
     "name": "stdout",
     "output_type": "stream",
     "text": [
      "1 \n",
      "2 3 \n",
      "4 5 6 \n",
      "7 8 9 10 \n",
      "11 12 13 14 15 \n"
     ]
    }
   ],
   "source": [
    "n =5\n",
    "num=1\n",
    "for i in range(1 , n+1):\n",
    "    for j in range (i):\n",
    "        print(num , end =\" \")\n",
    "        num+=1\n",
    "    print()"
   ]
  },
  {
   "cell_type": "markdown",
   "id": "c6b396d8-b35c-4900-a6b3-b1c14effd77a",
   "metadata": {},
   "source": [
    "# Holloow square "
   ]
  },
  {
   "cell_type": "code",
   "execution_count": 6,
   "id": "15090ebd-5631-4559-8af9-8283f7128107",
   "metadata": {},
   "outputs": [
    {
     "name": "stdout",
     "output_type": "stream",
     "text": [
      "* * * * * * \n",
      "*         * \n",
      "*         * \n",
      "*         * \n",
      "* * * * * * \n"
     ]
    }
   ],
   "source": [
    "\n",
    "for i in range(1,6):\n",
    "    \n",
    "    for j in range(1,7):\n",
    "        if i == 1 or i == 5 or j == 1 or j == 6 :\n",
    "            print('*', end=' ')\n",
    "        else:\n",
    "            print(' ', end=' ')\n",
    " \n",
    "    print()\n"
   ]
  },
  {
   "cell_type": "code",
   "execution_count": 7,
   "id": "2ea8d821-27eb-49f1-8cc4-dffd46d9e056",
   "metadata": {},
   "outputs": [
    {
     "name": "stdout",
     "output_type": "stream",
     "text": [
      "     1 \n",
      "    1 1 \n",
      "   1 2 1 \n",
      "  1 3 3 1 \n",
      " 1 4 6 4 1 \n"
     ]
    }
   ],
   "source": [
    "\n",
    "n = 5\n",
    "\n",
    "for i in range(n):\n",
    "    num = 1\n",
    "    print(\" \" * (n - i), end=\"\")  \n",
    "    for j in range(i + 1):\n",
    "        print(num, end=\" \") \n",
    "        num = num * (i - j) // (j + 1) \n",
    "    print() "
   ]
  },
  {
   "cell_type": "code",
   "execution_count": null,
   "id": "02dd904c-0665-401c-99f8-b88e342c8458",
   "metadata": {},
   "outputs": [],
   "source": []
  },
  {
   "cell_type": "code",
   "execution_count": null,
   "id": "df627e3e-43b2-4c98-ae70-97f6d678b646",
   "metadata": {},
   "outputs": [],
   "source": []
  },
  {
   "cell_type": "code",
   "execution_count": null,
   "id": "63e50d73-ab12-4d7c-abd6-de1ca8889fb5",
   "metadata": {},
   "outputs": [],
   "source": []
  }
 ],
 "metadata": {
  "kernelspec": {
   "display_name": "Python 3 (ipykernel)",
   "language": "python",
   "name": "python3"
  },
  "language_info": {
   "codemirror_mode": {
    "name": "ipython",
    "version": 3
   },
   "file_extension": ".py",
   "mimetype": "text/x-python",
   "name": "python",
   "nbconvert_exporter": "python",
   "pygments_lexer": "ipython3",
   "version": "3.11.7"
  }
 },
 "nbformat": 4,
 "nbformat_minor": 5
}
