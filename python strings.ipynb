{
 "cells": [
  {
   "cell_type": "markdown",
   "id": "27e490d8-2438-4066-921d-ca045cadd55a",
   "metadata": {},
   "source": [
    "# STRINGS"
   ]
  },
  {
   "cell_type": "code",
   "execution_count": 1,
   "id": "6a6bcd66-8ffd-4bfc-a3ae-81a7c57db660",
   "metadata": {},
   "outputs": [],
   "source": [
    "#strigs --> strings are sequence of charchters , that is a data type , that is used for interaction to user your application \n",
    "#string are immutabe means we cant any modification"
   ]
  },
  {
   "cell_type": "code",
   "execution_count": 2,
   "id": "147b0185-a9f8-4783-b693-2fe0f5381383",
   "metadata": {},
   "outputs": [],
   "source": [
    "#create a string \n",
    "#''\n",
    "#\" \" this is used beacuse sometimes it's ranning\n",
    "#''' ''' for multiline string"
   ]
  },
  {
   "cell_type": "markdown",
   "id": "7dea814a-1486-425f-87a8-c28d9ebfa9c1",
   "metadata": {},
   "source": [
    "# Accessing Substring from a string"
   ]
  },
  {
   "cell_type": "code",
   "execution_count": 3,
   "id": "cf374e9c-ba72-4cc9-8e5e-639b00eb10e7",
   "metadata": {},
   "outputs": [
    {
     "name": "stdout",
     "output_type": "stream",
     "text": [
      "hello\n"
     ]
    }
   ],
   "source": [
    "c=\"hello\"\n",
    "print(c)"
   ]
  },
  {
   "cell_type": "code",
   "execution_count": 4,
   "id": "e9a88dd4-3d72-4347-a328-6298b95b68de",
   "metadata": {},
   "outputs": [
    {
     "name": "stdout",
     "output_type": "stream",
     "text": [
      "h\n"
     ]
    }
   ],
   "source": [
    "print(c[0])"
   ]
  },
  {
   "cell_type": "code",
   "execution_count": 5,
   "id": "1b409aec-1f28-4b8d-9bf8-fa30f04c12aa",
   "metadata": {},
   "outputs": [],
   "source": [
    "#type of indexing \n",
    "#(1)positive indexing --> left to right indexing\n",
    "#(2)negative indexing --> right to left indexing"
   ]
  },
  {
   "cell_type": "code",
   "execution_count": 6,
   "id": "fecb0562-1121-4ef1-83eb-9ae0ac50331a",
   "metadata": {},
   "outputs": [
    {
     "name": "stdout",
     "output_type": "stream",
     "text": [
      "o\n"
     ]
    }
   ],
   "source": [
    "print(c[-1])"
   ]
  },
  {
   "cell_type": "markdown",
   "id": "490cfcb4-6ef6-4ecc-8f2c-4a3634dd40ad",
   "metadata": {},
   "source": [
    "# Slicing"
   ]
  },
  {
   "cell_type": "code",
   "execution_count": 7,
   "id": "d98df2d7-0c31-4d26-ac12-8ba6f422154a",
   "metadata": {},
   "outputs": [],
   "source": [
    "#slicing --> to extract multiple charchter from a string in a range of index\n"
   ]
  },
  {
   "cell_type": "code",
   "execution_count": 8,
   "id": "1adbaa49-f345-4a02-8ba3-9b3e745c7b29",
   "metadata": {},
   "outputs": [
    {
     "name": "stdout",
     "output_type": "stream",
     "text": [
      "hel\n"
     ]
    }
   ],
   "source": [
    "c =\"hello world\"\n",
    "print(c[0:3])"
   ]
  },
  {
   "cell_type": "code",
   "execution_count": 9,
   "id": "1c1e8e20-2999-4971-996b-0fd0b69b2e73",
   "metadata": {},
   "outputs": [],
   "source": [
    "#type"
   ]
  },
  {
   "cell_type": "code",
   "execution_count": 10,
   "id": "53282791-a246-44e2-ad15-9ceae704abad",
   "metadata": {},
   "outputs": [
    {
     "name": "stdout",
     "output_type": "stream",
     "text": [
      "llo world\n"
     ]
    }
   ],
   "source": [
    "print(c[2:])"
   ]
  },
  {
   "cell_type": "code",
   "execution_count": 11,
   "id": "15a302d4-2b4b-45bc-a5b7-774ec7d478e4",
   "metadata": {},
   "outputs": [
    {
     "name": "stdout",
     "output_type": "stream",
     "text": [
      "hell\n"
     ]
    }
   ],
   "source": [
    "print(c[:4])"
   ]
  },
  {
   "cell_type": "code",
   "execution_count": 12,
   "id": "d8f05bf8-c5a8-4c73-943b-0e9909796a69",
   "metadata": {},
   "outputs": [
    {
     "name": "stdout",
     "output_type": "stream",
     "text": [
      "hello world\n"
     ]
    }
   ],
   "source": [
    "print(c[:])"
   ]
  },
  {
   "cell_type": "code",
   "execution_count": 13,
   "id": "13132490-724b-473e-bf6e-600dd5808496",
   "metadata": {},
   "outputs": [
    {
     "name": "stdout",
     "output_type": "stream",
     "text": [
      "lo\n"
     ]
    }
   ],
   "source": [
    "print(c[2:6:2]) "
   ]
  },
  {
   "cell_type": "code",
   "execution_count": 15,
   "id": "4e0566ab-52b0-4767-9730-4920ac15a21e",
   "metadata": {},
   "outputs": [
    {
     "name": "stdout",
     "output_type": "stream",
     "text": [
      "dlrow olleh\n"
     ]
    }
   ],
   "source": [
    "print(c[::-1]) #reverse the string "
   ]
  },
  {
   "cell_type": "code",
   "execution_count": 17,
   "id": "d5c68ffc-948a-4af7-a8a9-379d90f218fb",
   "metadata": {},
   "outputs": [
    {
     "name": "stdout",
     "output_type": "stream",
     "text": [
      "dlrow olleh\n"
     ]
    }
   ],
   "source": [
    "print(c[::-1])"
   ]
  },
  {
   "cell_type": "markdown",
   "id": "79ac5db0-49ed-49b0-92c4-9114029ca8f8",
   "metadata": {},
   "source": [
    "# string operation"
   ]
  },
  {
   "cell_type": "markdown",
   "id": "0a535a81-9d70-4c77-886c-f4a6b245e65e",
   "metadata": {},
   "source": [
    "# Airthemtic operation"
   ]
  },
  {
   "cell_type": "code",
   "execution_count": 18,
   "id": "169169bb-38b4-4dd6-8850-2190fb7f23f5",
   "metadata": {},
   "outputs": [],
   "source": [
    "#string concation --> in string airthemetic operation is performed only + and *"
   ]
  },
  {
   "cell_type": "code",
   "execution_count": 19,
   "id": "0458a785-99f2-492c-a807-d5fefb300885",
   "metadata": {},
   "outputs": [
    {
     "name": "stdout",
     "output_type": "stream",
     "text": [
      "helloworld\n"
     ]
    }
   ],
   "source": [
    "c =\"hello\"+\"world\" #string concation\n",
    "print(c)"
   ]
  },
  {
   "cell_type": "code",
   "execution_count": 20,
   "id": "c4aaefb8-12f7-40a9-910c-c97a93080e2b",
   "metadata": {},
   "outputs": [
    {
     "name": "stdout",
     "output_type": "stream",
     "text": [
      "**************************************************\n"
     ]
    }
   ],
   "source": [
    "c =\"*\"*50\n",
    "print(c)"
   ]
  },
  {
   "cell_type": "markdown",
   "id": "28333039-6e7c-47a0-bcf4-0ea2c09681ed",
   "metadata": {},
   "source": [
    "# Relational operation"
   ]
  },
  {
   "cell_type": "code",
   "execution_count": 23,
   "id": "7a3df600-b7ff-4c74-9560-88a78e0c3ab6",
   "metadata": {},
   "outputs": [
    {
     "data": {
      "text/plain": [
       "False"
      ]
     },
     "execution_count": 23,
     "metadata": {},
     "output_type": "execute_result"
    }
   ],
   "source": [
    "\"hello\"  == \"world\""
   ]
  },
  {
   "cell_type": "code",
   "execution_count": 25,
   "id": "66faf004-4793-401a-b71e-2df918c57507",
   "metadata": {},
   "outputs": [
    {
     "data": {
      "text/plain": [
       "True"
      ]
     },
     "execution_count": 25,
     "metadata": {},
     "output_type": "execute_result"
    }
   ],
   "source": [
    "\"hello\" < \"world\" #in alphabatic order follow a<b is true that is called laxiograpically"
   ]
  },
  {
   "cell_type": "code",
   "execution_count": 27,
   "id": "956920a2-589e-47e4-b6b1-54159b0e8c23",
   "metadata": {},
   "outputs": [
    {
     "data": {
      "text/plain": [
       "False"
      ]
     },
     "execution_count": 27,
     "metadata": {},
     "output_type": "execute_result"
    }
   ],
   "source": [
    "\"kol\"<\"Kol\" #small letter > capital letter"
   ]
  },
  {
   "cell_type": "markdown",
   "id": "1ca9b4e2-83a1-43f0-bdba-a0ac24499b6c",
   "metadata": {},
   "source": [
    "# Logical operator"
   ]
  },
  {
   "cell_type": "code",
   "execution_count": 29,
   "id": "e104a0c1-53f0-4eac-b3d3-5c2a72a52d5e",
   "metadata": {},
   "outputs": [],
   "source": [
    "#\"\"  -> empty string is considred by false\n",
    "#\"fkjsf\"  --> non empty string is considred by true"
   ]
  },
  {
   "cell_type": "code",
   "execution_count": 30,
   "id": "60283253-b4ce-4240-bbfb-9fb4302eca43",
   "metadata": {},
   "outputs": [
    {
     "data": {
      "text/plain": [
       "''"
      ]
     },
     "execution_count": 30,
     "metadata": {},
     "output_type": "execute_result"
    }
   ],
   "source": [
    "\"\" and \"askjdh\"  #TRue and false --> false"
   ]
  },
  {
   "cell_type": "code",
   "execution_count": 31,
   "id": "287e0ec4-8aa5-42b2-aa85-52c059d3af0b",
   "metadata": {},
   "outputs": [
    {
     "data": {
      "text/plain": [
       "'world'"
      ]
     },
     "execution_count": 31,
     "metadata": {},
     "output_type": "execute_result"
    }
   ],
   "source": [
    "\"hello\" and \"world\" # 1 and 1 -->1 (that is considred world)"
   ]
  },
  {
   "cell_type": "code",
   "execution_count": 32,
   "id": "f64a7c4c-1ee9-40f0-bc80-b82a14dc2032",
   "metadata": {},
   "outputs": [
    {
     "data": {
      "text/plain": [
       "'hello'"
      ]
     },
     "execution_count": 32,
     "metadata": {},
     "output_type": "execute_result"
    }
   ],
   "source": [
    "\"hello\" or \" world\"  #1 or 1 (that is considred  hello)"
   ]
  },
  {
   "cell_type": "code",
   "execution_count": 38,
   "id": "560fa71c-8142-4c79-81d8-ff56ff66247a",
   "metadata": {},
   "outputs": [
    {
     "data": {
      "text/plain": [
       "False"
      ]
     },
     "execution_count": 38,
     "metadata": {},
     "output_type": "execute_result"
    }
   ],
   "source": [
    "not \"df\" #is false and false not is true"
   ]
  },
  {
   "cell_type": "code",
   "execution_count": 39,
   "id": "356a7426-7c7e-4313-8414-8dda333df23e",
   "metadata": {},
   "outputs": [
    {
     "data": {
      "text/plain": [
       "True"
      ]
     },
     "execution_count": 39,
     "metadata": {},
     "output_type": "execute_result"
    }
   ],
   "source": [
    "not \"\""
   ]
  },
  {
   "cell_type": "markdown",
   "id": "d42b927c-eb63-4efa-aa10-23dce97e6b99",
   "metadata": {},
   "source": [
    "# loops in string"
   ]
  },
  {
   "cell_type": "code",
   "execution_count": 42,
   "id": "837534f3-460f-47c9-8ab4-48b2f3a9633c",
   "metadata": {},
   "outputs": [
    {
     "name": "stdout",
     "output_type": "stream",
     "text": [
      "h\n",
      "e\n",
      "l\n",
      "l\n",
      "o\n",
      " \n",
      "w\n",
      "o\n",
      "r\n",
      "l\n",
      "d\n"
     ]
    }
   ],
   "source": [
    "c=\"hello world\"\n",
    "for i in c:\n",
    "    print(i , )"
   ]
  },
  {
   "cell_type": "markdown",
   "id": "143e08e2-e2c8-49a9-a7a6-60e45907f129",
   "metadata": {},
   "source": [
    "# membership operator"
   ]
  },
  {
   "cell_type": "code",
   "execution_count": 45,
   "id": "26e74820-68c6-4ad4-8c0c-cb00518a6828",
   "metadata": {},
   "outputs": [
    {
     "data": {
      "text/plain": [
       "True"
      ]
     },
     "execution_count": 45,
     "metadata": {},
     "output_type": "execute_result"
    }
   ],
   "source": [
    "c =\"hello \"\n",
    "\"h\" in c"
   ]
  },
  {
   "cell_type": "code",
   "execution_count": 46,
   "id": "9a2bf79b-afc3-468b-bbaa-c4a85b0db6ae",
   "metadata": {},
   "outputs": [
    {
     "data": {
      "text/plain": [
       "False"
      ]
     },
     "execution_count": 46,
     "metadata": {},
     "output_type": "execute_result"
    }
   ],
   "source": [
    "\"lo\" not in c "
   ]
  },
  {
   "cell_type": "code",
   "execution_count": null,
   "id": "4c6918bf-c98c-4e82-b862-90dc2ed867a6",
   "metadata": {},
   "outputs": [],
   "source": []
  },
  {
   "cell_type": "markdown",
   "id": "9e3100d3-2f39-4aab-a5b8-47b8a030df46",
   "metadata": {},
   "source": [
    "# String Function"
   ]
  },
  {
   "cell_type": "markdown",
   "id": "05adfb3a-9379-4121-8f48-8b9e6bfb6e56",
   "metadata": {},
   "source": [
    "# common function"
   ]
  },
  {
   "cell_type": "code",
   "execution_count": 47,
   "id": "2b04b416-5db9-42f9-8514-25c0369f4260",
   "metadata": {},
   "outputs": [],
   "source": [
    "# len\n",
    "#max\n",
    "#min \n",
    "#sorted"
   ]
  },
  {
   "cell_type": "code",
   "execution_count": 48,
   "id": "823e9690-1aab-480c-8882-dca3a739b425",
   "metadata": {},
   "outputs": [
    {
     "data": {
      "text/plain": [
       "5"
      ]
     },
     "execution_count": 48,
     "metadata": {},
     "output_type": "execute_result"
    }
   ],
   "source": [
    "c =\"hello\"\n",
    "len(c)"
   ]
  },
  {
   "cell_type": "code",
   "execution_count": 49,
   "id": "844c5f0b-440f-4d13-ba9b-c9ab01036d16",
   "metadata": {},
   "outputs": [
    {
     "data": {
      "text/plain": [
       "'o'"
      ]
     },
     "execution_count": 49,
     "metadata": {},
     "output_type": "execute_result"
    }
   ],
   "source": [
    "max(c)"
   ]
  },
  {
   "cell_type": "code",
   "execution_count": 50,
   "id": "4bea16e9-1f27-4bf4-b62b-16841ba649bc",
   "metadata": {},
   "outputs": [
    {
     "data": {
      "text/plain": [
       "'e'"
      ]
     },
     "execution_count": 50,
     "metadata": {},
     "output_type": "execute_result"
    }
   ],
   "source": [
    "min(c)"
   ]
  },
  {
   "cell_type": "code",
   "execution_count": 56,
   "id": "7a92ea0b-23be-46fe-98e2-16a1b1f6f3e0",
   "metadata": {},
   "outputs": [
    {
     "data": {
      "text/plain": [
       "['e', 'h', 'l', 'l', 'o']"
      ]
     },
     "execution_count": 56,
     "metadata": {},
     "output_type": "execute_result"
    }
   ],
   "source": [
    "sorted(c )"
   ]
  },
  {
   "cell_type": "code",
   "execution_count": 55,
   "id": "6bbcf2fb-db73-4f37-abb8-7e5a5e2e5ec9",
   "metadata": {},
   "outputs": [
    {
     "data": {
      "text/plain": [
       "['o', 'l', 'l', 'h', 'e']"
      ]
     },
     "execution_count": 55,
     "metadata": {},
     "output_type": "execute_result"
    }
   ],
   "source": [
    "sorted(c , reverse =True)"
   ]
  },
  {
   "cell_type": "code",
   "execution_count": null,
   "id": "9387dcd8-a2d6-4e40-a5af-c7035373e52f",
   "metadata": {},
   "outputs": [],
   "source": []
  },
  {
   "cell_type": "markdown",
   "id": "d3167f9f-ef4e-42d4-876b-87c47f3d9bfc",
   "metadata": {},
   "source": [
    "# capitalize/Title/upper/lower/swapcase"
   ]
  },
  {
   "cell_type": "code",
   "execution_count": 57,
   "id": "92e4d8d2-b1d4-4e74-8aad-82ce74609f21",
   "metadata": {},
   "outputs": [
    {
     "data": {
      "text/plain": [
       "'hello'"
      ]
     },
     "execution_count": 57,
     "metadata": {},
     "output_type": "execute_result"
    }
   ],
   "source": [
    "c"
   ]
  },
  {
   "cell_type": "code",
   "execution_count": 58,
   "id": "2148cf99-bc30-4b86-94f6-a4a2ff8c147c",
   "metadata": {},
   "outputs": [
    {
     "data": {
      "text/plain": [
       "'Hello'"
      ]
     },
     "execution_count": 58,
     "metadata": {},
     "output_type": "execute_result"
    }
   ],
   "source": [
    "c.capitalize() #first letter capital"
   ]
  },
  {
   "cell_type": "code",
   "execution_count": 59,
   "id": "248e63ed-dd15-4d8b-b108-f5f53f114e1d",
   "metadata": {},
   "outputs": [
    {
     "data": {
      "text/plain": [
       "'It Is Ranning Today'"
      ]
     },
     "execution_count": 59,
     "metadata": {},
     "output_type": "execute_result"
    }
   ],
   "source": [
    "\"it is ranning today\".title() #har word ko capital kar dega"
   ]
  },
  {
   "cell_type": "code",
   "execution_count": 60,
   "id": "58c2dcfd-3f6d-489a-95d3-333a53b942f6",
   "metadata": {},
   "outputs": [
    {
     "data": {
      "text/plain": [
       "'HELLO'"
      ]
     },
     "execution_count": 60,
     "metadata": {},
     "output_type": "execute_result"
    }
   ],
   "source": [
    "c.upper()"
   ]
  },
  {
   "cell_type": "code",
   "execution_count": 62,
   "id": "93838b89-07bf-4e29-b185-5863164e21b7",
   "metadata": {},
   "outputs": [
    {
     "data": {
      "text/plain": [
       "'hello'"
      ]
     },
     "execution_count": 62,
     "metadata": {},
     "output_type": "execute_result"
    }
   ],
   "source": [
    "c.lower()"
   ]
  },
  {
   "cell_type": "code",
   "execution_count": 64,
   "id": "9d3e26b4-99ea-46a5-8f2c-768574b6f006",
   "metadata": {},
   "outputs": [
    {
     "data": {
      "text/plain": [
       "'KADSsdjaC'"
      ]
     },
     "execution_count": 64,
     "metadata": {},
     "output_type": "execute_result"
    }
   ],
   "source": [
    "\"kadsSDJAc\".swapcase() #lower to upper and upper to lower"
   ]
  },
  {
   "cell_type": "markdown",
   "id": "b8e1c251-d9ee-49f9-8cdc-1b8d5981bed9",
   "metadata": {},
   "source": [
    "# count"
   ]
  },
  {
   "cell_type": "code",
   "execution_count": 68,
   "id": "ba101241-531d-4719-a8ec-310e2c70c6f0",
   "metadata": {},
   "outputs": [
    {
     "data": {
      "text/plain": [
       "4"
      ]
     },
     "execution_count": 68,
     "metadata": {},
     "output_type": "execute_result"
    }
   ],
   "source": [
    "\"it is rainning today\".count(\"i\") #count of charchter in a word"
   ]
  },
  {
   "cell_type": "code",
   "execution_count": 69,
   "id": "f1f9920e-c602-4438-b7b8-033b685c3c82",
   "metadata": {},
   "outputs": [
    {
     "data": {
      "text/plain": [
       "2"
      ]
     },
     "execution_count": 69,
     "metadata": {},
     "output_type": "execute_result"
    }
   ],
   "source": [
    "\"hello\".count(\"l\")"
   ]
  },
  {
   "cell_type": "markdown",
   "id": "bd4182c0-ebaf-4f7b-a23b-a46ad005890c",
   "metadata": {},
   "source": [
    "# find"
   ]
  },
  {
   "cell_type": "code",
   "execution_count": 71,
   "id": "e7c8b820-ddd4-45ee-9bfb-a41fd35a86ca",
   "metadata": {},
   "outputs": [
    {
     "data": {
      "text/plain": [
       "0"
      ]
     },
     "execution_count": 71,
     "metadata": {},
     "output_type": "execute_result"
    }
   ],
   "source": [
    "\"it is ranning today\".find(\"i\")"
   ]
  },
  {
   "cell_type": "markdown",
   "id": "fed55e66-9528-43bb-9a4d-bdb03baa3154",
   "metadata": {},
   "source": [
    "# endwith and startwith"
   ]
  },
  {
   "cell_type": "code",
   "execution_count": 74,
   "id": "52d6ec4c-a7d3-49b2-9676-a991f78ad97a",
   "metadata": {},
   "outputs": [
    {
     "data": {
      "text/plain": [
       "False"
      ]
     },
     "execution_count": 74,
     "metadata": {},
     "output_type": "execute_result"
    }
   ],
   "source": [
    "\"it is ranning today\".endswith(\"ing\")"
   ]
  },
  {
   "cell_type": "code",
   "execution_count": 75,
   "id": "39e73545-1da3-4034-b4e2-de148b8fd199",
   "metadata": {},
   "outputs": [
    {
     "data": {
      "text/plain": [
       "True"
      ]
     },
     "execution_count": 75,
     "metadata": {},
     "output_type": "execute_result"
    }
   ],
   "source": [
    "\"it is ranning\".startswith(\"it\")"
   ]
  },
  {
   "cell_type": "code",
   "execution_count": null,
   "id": "fbab5f3b-f9df-4f55-b24a-5ee24cb50abd",
   "metadata": {},
   "outputs": [],
   "source": []
  },
  {
   "cell_type": "markdown",
   "id": "e6511685-5361-4363-bb2b-6861c701bc8d",
   "metadata": {},
   "source": [
    "# format"
   ]
  },
  {
   "cell_type": "code",
   "execution_count": 76,
   "id": "d97a927b-76ac-43de-8583-7321e82cdadd",
   "metadata": {},
   "outputs": [
    {
     "data": {
      "text/plain": [
       "'hello my name is nitish  and my age is 30'"
      ]
     },
     "execution_count": 76,
     "metadata": {},
     "output_type": "execute_result"
    }
   ],
   "source": [
    "\"hello my name is {} and my age is {}\".format(\"nitish \" , 30)"
   ]
  },
  {
   "cell_type": "code",
   "execution_count": null,
   "id": "2a65effa-5f32-4b07-946d-096374e30407",
   "metadata": {},
   "outputs": [],
   "source": []
  },
  {
   "cell_type": "markdown",
   "id": "2251827a-2c00-4bd1-bf21-0492fc4bc672",
   "metadata": {},
   "source": [
    "# split"
   ]
  },
  {
   "cell_type": "code",
   "execution_count": 77,
   "id": "b17ed9a1-2ccf-48f3-b1ce-0f4bded5ce42",
   "metadata": {},
   "outputs": [
    {
     "data": {
      "text/plain": [
       "['my', 'name', 'is', 'ankit', 'jakhar']"
      ]
     },
     "execution_count": 77,
     "metadata": {},
     "output_type": "execute_result"
    }
   ],
   "source": [
    "\"my name is ankit jakhar\".split()  #this is use for word split not chatchter"
   ]
  },
  {
   "cell_type": "code",
   "execution_count": 78,
   "id": "028490ef-51a8-4f41-bb5b-d341d177a1a9",
   "metadata": {},
   "outputs": [
    {
     "data": {
      "text/plain": [
       "['hello']"
      ]
     },
     "execution_count": 78,
     "metadata": {},
     "output_type": "execute_result"
    }
   ],
   "source": [
    "\"hello\".split()"
   ]
  },
  {
   "cell_type": "markdown",
   "id": "ed1d701e-8ae1-4b2b-98d7-d006c15d1595",
   "metadata": {},
   "source": [
    "# join"
   ]
  },
  {
   "cell_type": "markdown",
   "id": "b39bf1fd-6c28-4769-9b3c-6f52578ef43c",
   "metadata": {},
   "source": [
    "#join the string"
   ]
  },
  {
   "cell_type": "code",
   "execution_count": null,
   "id": "4edbcf5f-e56b-4e09-9b44-ff4d0acb2707",
   "metadata": {},
   "outputs": [],
   "source": []
  },
  {
   "cell_type": "code",
   "execution_count": null,
   "id": "72f19270-f6a1-4a9f-979f-8e1a95a7e672",
   "metadata": {},
   "outputs": [],
   "source": []
  },
  {
   "cell_type": "markdown",
   "id": "3938e3bf-5ea6-44ee-83e2-dd74e2ffb801",
   "metadata": {},
   "source": [
    "# Problem solving of string"
   ]
  },
  {
   "cell_type": "code",
   "execution_count": null,
   "id": "04251182-79e2-43e1-ae35-a4be88f227a1",
   "metadata": {},
   "outputs": [],
   "source": [
    "#Python program to check whether the string is Symmetrical or Palindrome\n",
    "s =\"amaama\""
   ]
  }
 ],
 "metadata": {
  "kernelspec": {
   "display_name": "Python 3 (ipykernel)",
   "language": "python",
   "name": "python3"
  },
  "language_info": {
   "codemirror_mode": {
    "name": "ipython",
    "version": 3
   },
   "file_extension": ".py",
   "mimetype": "text/x-python",
   "name": "python",
   "nbconvert_exporter": "python",
   "pygments_lexer": "ipython3",
   "version": "3.11.7"
  }
 },
 "nbformat": 4,
 "nbformat_minor": 5
}
