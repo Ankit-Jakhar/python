{
 "cells": [
  {
   "cell_type": "markdown",
   "id": "39f773fe-eea8-4341-8a3e-8c10e3dadf3b",
   "metadata": {},
   "source": [
    "# Function"
   ]
  },
  {
   "cell_type": "code",
   "execution_count": 5,
   "id": "bb830d26-6ae7-4050-9c80-ce5a4a7ddf92",
   "metadata": {},
   "outputs": [],
   "source": [
    "def greetings(user):\n",
    "    user ='ujjawal'\n",
    "    print(\"hello welcome user\" , user)\n",
    "    "
   ]
  },
  {
   "cell_type": "code",
   "execution_count": 6,
   "id": "350cd765-87bd-486a-a222-f36b1bf1edf7",
   "metadata": {},
   "outputs": [
    {
     "name": "stdout",
     "output_type": "stream",
     "text": [
      "hello welcome user aman\n",
      "hello welcome user naina\n"
     ]
    }
   ],
   "source": [
    "greetings(\"aman\")\n",
    "greetings('naina')"
   ]
  },
  {
   "cell_type": "code",
   "execution_count": 3,
   "id": "82caacb6-63c4-4b76-a99a-d50d85aebbd1",
   "metadata": {},
   "outputs": [],
   "source": [
    "#function ke sath jo varibLE BNATE HAIN USE PERAMETRE KAHTENHAIN\n",
    "#AUR  jo apmn dete hain use argument kahte hain"
   ]
  },
  {
   "cell_type": "code",
   "execution_count": 7,
   "id": "f47381c8-2e8b-474b-ae7c-090bba53ef77",
   "metadata": {},
   "outputs": [
    {
     "name": "stdout",
     "output_type": "stream",
     "text": [
      "hello welcome user tushar\n",
      "name tushar\n"
     ]
    }
   ],
   "source": [
    "name ='tushar'\n",
    "greetings(name)\n",
    "print('name' , name)"
   ]
  },
  {
   "cell_type": "code",
   "execution_count": 8,
   "id": "604493f5-c502-4529-974f-184a388ed329",
   "metadata": {},
   "outputs": [],
   "source": [
    "#python main agar memorey address change hota hain to use immutable data type hota hain\n",
    "#aur agar memorey address same rahta hain to vo mutuable\n",
    "#integer , string , boolian , tupple , ye sare immutable datatype rahte hain\n",
    "#list , dictionary , set mutable hota h"
   ]
  },
  {
   "cell_type": "code",
   "execution_count": 9,
   "id": "1628ab34-2039-41dd-9d80-980508271b25",
   "metadata": {},
   "outputs": [
    {
     "name": "stdout",
     "output_type": "stream",
     "text": [
      "hello welcome user [10, 20]\n",
      "[10, 20]\n"
     ]
    }
   ],
   "source": [
    "list =[10,20]\n",
    "greetings(list)\n",
    "print(list)"
   ]
  },
  {
   "cell_type": "code",
   "execution_count": 10,
   "id": "b20c37da-e48e-4b21-822e-34f01a171f6d",
   "metadata": {},
   "outputs": [],
   "source": [
    "#type of argument passing in functions\n"
   ]
  },
  {
   "cell_type": "code",
   "execution_count": 13,
   "id": "3ceb93a2-4bb5-47a6-a26b-aeb66332b2bb",
   "metadata": {},
   "outputs": [],
   "source": [
    "#Reqiured argument\n",
    "#positional Arguement\n",
    "#\n",
    "def func(x, y, z):\n",
    "    print(f'x=> {x} , y ->{y} , z ->{z}')\n",
    "    "
   ]
  },
  {
   "cell_type": "code",
   "execution_count": 16,
   "id": "b3b69c31-9f1c-4f09-8690-e7f79feb6a78",
   "metadata": {},
   "outputs": [
    {
     "name": "stdout",
     "output_type": "stream",
     "text": [
      "x=> 10 , y ->20 , z ->30\n",
      "x=> 30 , y ->20 , z ->10\n",
      "x=> 10 , y ->20 , z ->30\n"
     ]
    }
   ],
   "source": [
    "func(10,20,30) #required argument\n",
    "func(30,20,10) #positional argument\n",
    "func(y =20 ,z=30 , x=10) #keyword argument"
   ]
  },
  {
   "cell_type": "code",
   "execution_count": 17,
   "id": "4a20c1fc-e97e-4d4f-863f-1bfe8227022b",
   "metadata": {},
   "outputs": [
    {
     "name": "stdout",
     "output_type": "stream",
     "text": [
      "x=> 10 , y ->20 , z ->40\n"
     ]
    }
   ],
   "source": [
    "#Default Argument\n",
    "def func(x, y, z =40):\n",
    "    print(f'x=> {x} , y ->{y} , z ->{z}')\n",
    "func(10,20)"
   ]
  },
  {
   "cell_type": "code",
   "execution_count": 23,
   "id": "d3e1f20c-65e8-47ec-9d81-9927a105194b",
   "metadata": {},
   "outputs": [
    {
     "name": "stdout",
     "output_type": "stream",
     "text": [
      "x --> (10, 20)\n",
      "x --> ()\n",
      "x --> (10, 20, 4, 5, 6)\n"
     ]
    }
   ],
   "source": [
    "#local and global varibale\n",
    "#variable lenth and keyword argument\n",
    "\n",
    "#variable lenth argument\n",
    "def func(*x):\n",
    "    print(\"x -->\" ,x)\n",
    "func(10,20)\n",
    "func()\n",
    "func(10,20,4,5,6)"
   ]
  },
  {
   "cell_type": "code",
   "execution_count": 1,
   "id": "e905917c-5c86-4f66-98b2-03684a387297",
   "metadata": {},
   "outputs": [],
   "source": [
    "#keyword varibale lenth argument\n",
    "def func(**x):\n",
    "    print(\"x =>\" ,x, type(x))"
   ]
  },
  {
   "cell_type": "code",
   "execution_count": 1,
   "id": "f17cabf8-e60c-43f7-8464-7e84243e099a",
   "metadata": {},
   "outputs": [
    {
     "ename": "NameError",
     "evalue": "name 'func' is not defined",
     "output_type": "error",
     "traceback": [
      "\u001b[1;31m---------------------------------------------------------------------------\u001b[0m",
      "\u001b[1;31mNameError\u001b[0m                                 Traceback (most recent call last)",
      "Cell \u001b[1;32mIn[1], line 1\u001b[0m\n\u001b[1;32m----> 1\u001b[0m func(age\u001b[38;5;241m=\u001b[39m\u001b[38;5;241m10\u001b[39m , salery \u001b[38;5;241m=\u001b[39m\u001b[38;5;241m2000\u001b[39m)\n\u001b[0;32m      2\u001b[0m func()\n\u001b[0;32m      3\u001b[0m func(salery\u001b[38;5;241m=\u001b[39m\u001b[38;5;241m2000\u001b[39m , age \u001b[38;5;241m=\u001b[39m\u001b[38;5;241m10\u001b[39m , name \u001b[38;5;241m=\u001b[39m\u001b[38;5;124m'\u001b[39m\u001b[38;5;124mankit\u001b[39m\u001b[38;5;124m'\u001b[39m)\n",
      "\u001b[1;31mNameError\u001b[0m: name 'func' is not defined"
     ]
    }
   ],
   "source": [
    "func(age=10 , salery =2000)\n",
    "func()\n",
    "func(salery=2000 , age =10 , name ='ankit')"
   ]
  },
  {
   "cell_type": "code",
   "execution_count": null,
   "id": "ee1fe91d-6861-47f2-8fda-41e25fa913e7",
   "metadata": {},
   "outputs": [],
   "source": []
  },
  {
   "cell_type": "code",
   "execution_count": null,
   "id": "134b6157-3e55-41ff-9f91-e35705b62f0c",
   "metadata": {},
   "outputs": [],
   "source": []
  },
  {
   "cell_type": "markdown",
   "id": "5c0fd1e1-fdcf-43e7-a04c-71aa4313ac17",
   "metadata": {},
   "source": [
    "# Return keyword\n"
   ]
  },
  {
   "cell_type": "code",
   "execution_count": 33,
   "id": "c5aacd4a-3a46-47af-b1aa-1ff86ae93a80",
   "metadata": {},
   "outputs": [],
   "source": [
    "def func(x):\n",
    "    print(\"x=>\" , x+10)"
   ]
  },
  {
   "cell_type": "code",
   "execution_count": 34,
   "id": "052fea41-6e7b-4a04-ac6a-dde7832cbf13",
   "metadata": {},
   "outputs": [
    {
     "name": "stdout",
     "output_type": "stream",
     "text": [
      "x=> 29\n",
      "None "
     ]
    }
   ],
   "source": [
    "out= func(19)\n",
    "print(out , end =' ')"
   ]
  },
  {
   "cell_type": "code",
   "execution_count": 35,
   "id": "e242f189-36cb-4815-9042-2491d50eac44",
   "metadata": {},
   "outputs": [
    {
     "name": "stdout",
     "output_type": "stream",
     "text": [
      "pay inside 1100\n",
      "out None\n"
     ]
    }
   ],
   "source": [
    "def shadi(lifafa):\n",
    "    print(\"pay inside\" , lifafa+100)\n",
    "out =shadi(1000)\n",
    "print('out' , out)"
   ]
  },
  {
   "cell_type": "code",
   "execution_count": 37,
   "id": "7a01bbf0-76cd-42fb-bccf-2676d237d03b",
   "metadata": {},
   "outputs": [
    {
     "name": "stdout",
     "output_type": "stream",
     "text": [
      "out khana khar vapas aa gaya\n"
     ]
    }
   ],
   "source": [
    "def shadi(lifafa):\n",
    "    return 'khana khar vapas aa gaya'\n",
    "    print(\"pay inside\" , lifafa+100)\n",
    "out =shadi(1000)\n",
    "print('out' , out)"
   ]
  },
  {
   "cell_type": "code",
   "execution_count": 38,
   "id": "408c1b54-4a00-48e5-8608-cf7f6aef4f9b",
   "metadata": {},
   "outputs": [
    {
     "name": "stdout",
     "output_type": "stream",
     "text": [
      "out khana khar vapas aa gaya\n"
     ]
    }
   ],
   "source": [
    "def shadi(lifafa):\n",
    "    return 'khana khar vapas aa gaya'\n",
    "    return 'abc'\n",
    "    print(\"pay inside\" , lifafa+100)\n",
    "out =shadi(1000)\n",
    "print('out' , out)"
   ]
  },
  {
   "cell_type": "code",
   "execution_count": 39,
   "id": "1e8db36c-0370-4825-a92e-e66ef16022ab",
   "metadata": {},
   "outputs": [
    {
     "name": "stdout",
     "output_type": "stream",
     "text": [
      "value are  15 25\n",
      "c 40\n",
      "None\n"
     ]
    }
   ],
   "source": [
    "def adding(x , y):\n",
    "    print('value are ' , x, y)\n",
    "    c =x+y\n",
    "    print(\"c\" , c)\n",
    "out=adding(15,25)\n",
    "print(out)"
   ]
  },
  {
   "cell_type": "code",
   "execution_count": 40,
   "id": "2603a3df-2baf-4c52-86e2-803bbe8beefc",
   "metadata": {},
   "outputs": [
    {
     "name": "stdout",
     "output_type": "stream",
     "text": [
      "value are  15 25\n",
      "40\n"
     ]
    }
   ],
   "source": [
    "def adding(x , y):\n",
    "    print('value are ' , x, y)\n",
    "    c =x+y\n",
    "    return c\n",
    "out=adding(15,25)\n",
    "print(out)"
   ]
  },
  {
   "cell_type": "code",
   "execution_count": null,
   "id": "d878a6ab-3479-4f4d-a751-d13963e46ecb",
   "metadata": {},
   "outputs": [],
   "source": []
  },
  {
   "cell_type": "markdown",
   "id": "9d3e94f3-e5d6-405c-9516-6f6f8a2441da",
   "metadata": {},
   "source": [
    "# First Class Function"
   ]
  },
  {
   "cell_type": "code",
   "execution_count": 41,
   "id": "24a19b96-7ebc-437e-82bc-d0d5df2714f3",
   "metadata": {},
   "outputs": [],
   "source": [
    "#first class function\n",
    "#design pattern which we can through we use a function in  multiple ways\n",
    "#function ko varibale main save kiya jaye to fisrt class function\n",
    "#kisi function ko as a argument main pass kar du to use fisrt class function kahte haiun\n",
    "#function if a function is return\n",
    "#function in data  strucutre"
   ]
  },
  {
   "cell_type": "code",
   "execution_count": 42,
   "id": "281d0756-8f68-4826-9e81-c5b17d7ed447",
   "metadata": {},
   "outputs": [
    {
     "name": "stdout",
     "output_type": "stream",
     "text": [
      "hello\n",
      "x => None\n"
     ]
    }
   ],
   "source": [
    "def func():\n",
    "    print('hello')\n",
    "x =func()\n",
    "print('x =>' , x)"
   ]
  },
  {
   "cell_type": "code",
   "execution_count": 44,
   "id": "64861b3d-0818-4335-b92e-366061c30497",
   "metadata": {},
   "outputs": [
    {
     "name": "stdout",
     "output_type": "stream",
     "text": [
      "x => <function func at 0x0000023368F06020>\n"
     ]
    }
   ],
   "source": [
    "def func():\n",
    "    print('hello')\n",
    "x =func #agar function ko call nhi kiya to x ki value memorey address hoga\n",
    "print('x =>' , x)"
   ]
  },
  {
   "cell_type": "code",
   "execution_count": 45,
   "id": "12df2565-e37d-4895-8901-5ce576f60861",
   "metadata": {},
   "outputs": [
    {
     "name": "stdout",
     "output_type": "stream",
     "text": [
      "x => <function func at 0x0000023368F07CE0> <function func at 0x0000023368F07CE0>\n",
      "hello\n",
      "hello\n"
     ]
    }
   ],
   "source": [
    "def func():\n",
    "    print('hello')\n",
    "x =func #agar function ko call nhi kiya to x ki value memorey address hoga\n",
    "print('x =>' , x , func)\n",
    "x()\n",
    "func()"
   ]
  },
  {
   "cell_type": "code",
   "execution_count": 2,
   "id": "1c4eabd7-0b6f-4508-bbda-7f3104b3563b",
   "metadata": {},
   "outputs": [
    {
     "name": "stdout",
     "output_type": "stream",
     "text": [
      "30\n",
      "None\n"
     ]
    }
   ],
   "source": [
    "#function ko as a argument or as function pass kiya jate to\n",
    "def add(x ,y):\n",
    "    print(x+y)\n",
    "out =add(10,20)\n",
    "print(out)"
   ]
  },
  {
   "cell_type": "code",
   "execution_count": 4,
   "id": "f2ec4e1b-28b4-472d-b882-d360de270d26",
   "metadata": {},
   "outputs": [
    {
     "name": "stdout",
     "output_type": "stream",
     "text": [
      "5\n",
      "a=> 10 b => None\n"
     ]
    }
   ],
   "source": [
    "def add(x ,y):\n",
    "    print(x+y)\n",
    "\n",
    "def three_number(a, b):\n",
    "    print('a=>' ,a ,'b =>' , b)\n",
    "\n",
    "three_number(10 , add(2 ,3))"
   ]
  },
  {
   "cell_type": "code",
   "execution_count": 5,
   "id": "762111fc-f085-4566-bcb2-6622f1f35489",
   "metadata": {},
   "outputs": [
    {
     "name": "stdout",
     "output_type": "stream",
     "text": [
      "a=> 10 b => 5\n"
     ]
    }
   ],
   "source": [
    "def add(x ,y):\n",
    "    return(x+y)\n",
    "\n",
    "def three_number(a, b):\n",
    "    print('a=>' ,a ,'b =>' , b)\n",
    "\n",
    "three_number(10 , add(2 ,3))"
   ]
  },
  {
   "cell_type": "code",
   "execution_count": 6,
   "id": "81aa3c77-b825-4786-8f92-b19121784997",
   "metadata": {},
   "outputs": [
    {
     "data": {
      "text/plain": [
       "5"
      ]
     },
     "execution_count": 6,
     "metadata": {},
     "output_type": "execute_result"
    }
   ],
   "source": [
    "def add(x ,y):\n",
    "    return(x+y)\n",
    "\n",
    "add(2,3)"
   ]
  },
  {
   "cell_type": "code",
   "execution_count": 7,
   "id": "a0e83c8c-5c9a-4def-9219-be911c260caa",
   "metadata": {},
   "outputs": [
    {
     "name": "stdout",
     "output_type": "stream",
     "text": [
      "a=> 10 b => <function add at 0x0000025832200680>\n"
     ]
    }
   ],
   "source": [
    "def add(x ,y):\n",
    "    return(x+y)\n",
    "\n",
    "def three_number(a, b):\n",
    "    print('a=>' ,a ,'b =>' , b)\n",
    "\n",
    "three_number(10 , add)"
   ]
  },
  {
   "cell_type": "code",
   "execution_count": 8,
   "id": "3080b26a-1440-40e5-87be-00f2ca009c4c",
   "metadata": {},
   "outputs": [
    {
     "name": "stdout",
     "output_type": "stream",
     "text": [
      "a=> 10 b => <function add at 0x0000025832200040> 6\n"
     ]
    }
   ],
   "source": [
    "def add(x ,y):\n",
    "    return(x+y)\n",
    "\n",
    "def three_number(a, b):\n",
    "    print('a=>' ,a ,'b =>' , b , b(2,4))\n",
    "\n",
    "three_number(10 , add)"
   ]
  },
  {
   "cell_type": "code",
   "execution_count": 9,
   "id": "07814473-3ef4-44d5-a0d0-386d377dbd52",
   "metadata": {},
   "outputs": [
    {
     "name": "stdout",
     "output_type": "stream",
     "text": [
      "total => 15\n"
     ]
    }
   ],
   "source": [
    "def add(x ,y):\n",
    "    return(x+y)\n",
    "\n",
    "def three_number(a, b):\n",
    "    print(\"total =>\" , a+b(2,3))\n",
    "\n",
    "three_number(10 , add)"
   ]
  },
  {
   "cell_type": "code",
   "execution_count": 10,
   "id": "a339b2d4-94fe-4788-93e7-96d29226aca7",
   "metadata": {},
   "outputs": [],
   "source": [
    "# High order function --> asa function jisko kisi dusre funtion main as a argument pass kiya ja sake us eto high order function kahte hain\n",
    "#sare high order function first order hote hain lakin sare high order function first class function nhi hote hain"
   ]
  },
  {
   "cell_type": "code",
   "execution_count": null,
   "id": "ce993621-8fd9-4d23-9f45-891ae8407d39",
   "metadata": {},
   "outputs": [],
   "source": [
    "§     "
   ]
  }
 ],
 "metadata": {
  "kernelspec": {
   "display_name": "Python 3 (ipykernel)",
   "language": "python",
   "name": "python3"
  },
  "language_info": {
   "codemirror_mode": {
    "name": "ipython",
    "version": 3
   },
   "file_extension": ".py",
   "mimetype": "text/x-python",
   "name": "python",
   "nbconvert_exporter": "python",
   "pygments_lexer": "ipython3",
   "version": "3.11.7"
  }
 },
 "nbformat": 4,
 "nbformat_minor": 5
}
