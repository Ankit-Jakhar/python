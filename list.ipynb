{
 "cells": [
  {
   "cell_type": "code",
   "execution_count": 1,
   "id": "1b598ffd-9a6c-468a-9562-eb657f95d570",
   "metadata": {},
   "outputs": [],
   "source": [
    "#Write a Python program to find the maximum element in a list of numbers without\n",
    "#max functions\n",
    "#numbers = [10, 20, 4, 45, 99]\n",
    "#The maximum element is: 99"
   ]
  },
  {
   "cell_type": "code",
   "execution_count": 13,
   "id": "37d9de93-8359-46ed-b6cd-32ba9c48a648",
   "metadata": {},
   "outputs": [
    {
     "name": "stdout",
     "output_type": "stream",
     "text": [
      "99\n"
     ]
    }
   ],
   "source": [
    "numbers = [10, 20, 4, 45, 99]\n",
    "max =10\n",
    "for i in numbers:\n",
    "   if i>max:\n",
    "    max =i\n",
    "print(f\"{max}\")\n",
    "\n"
   ]
  },
  {
   "cell_type": "code",
   "execution_count": 17,
   "id": "d7cd4b70-054a-47b6-b695-46504e8cab8a",
   "metadata": {},
   "outputs": [
    {
     "name": "stdout",
     "output_type": "stream",
     "text": [
      "100\n"
     ]
    }
   ],
   "source": [
    "num = [10 ,20,30,40]\n",
    "sum =0\n",
    "for i in num:\n",
    "    sum = sum +i\n",
    "print(sum)"
   ]
  },
  {
   "cell_type": "code",
   "execution_count": 18,
   "id": "9fcbcb42-c267-4876-88cd-95979b82683b",
   "metadata": {},
   "outputs": [
    {
     "data": {
      "text/plain": [
       "'3. Write a Python program to reverse a list without reverse or slicing operator\\na. numbers = [1, 2, 3, 4, 5]\\nb. Reversed list: [5, 4, 3, 2, 1]'"
      ]
     },
     "execution_count": 18,
     "metadata": {},
     "output_type": "execute_result"
    }
   ],
   "source": [
    "'''3. Write a Python program to reverse a list without reverse or slicing operator\n",
    "a. numbers = [1, 2, 3, 4, 5]\n",
    "b. Reversed list: [5, 4, 3, 2, 1]'''"
   ]
  },
  {
   "cell_type": "code",
   "execution_count": 20,
   "id": "0a067bb2-b4a9-4833-9f4d-c6ea626d8a7e",
   "metadata": {},
   "outputs": [],
   "source": [
    "#Write a Python program to sort a list in ascending order without sort functions"
   ]
  },
  {
   "cell_type": "code",
   "execution_count": null,
   "id": "733f0336-ca5e-40ec-9ef2-fb99f2ece67d",
   "metadata": {},
   "outputs": [],
   "source": []
  },
  {
   "cell_type": "code",
   "execution_count": 13,
   "id": "6cef2ab2-dc40-4ec7-9e3d-4934954add25",
   "metadata": {},
   "outputs": [
    {
     "name": "stdout",
     "output_type": "stream",
     "text": [
      "[10, 20]\n"
     ]
    }
   ],
   "source": [
    "#DUplicate value check\n",
    "mylist =[10,20,30,20,40,50 ,20 ,20 ,10]\n",
    "list=[]\n",
    "for i in range(0 , len(mylist)):\n",
    "    for j in range(i+1 , len(mylist)):\n",
    "        if (mylist[i]==mylist[j]):\n",
    "            if mylist[i] not in list:\n",
    "                list.append(mylist[i])\n",
    "print(list)\n",
    "    \n",
    "    \n"
   ]
  },
  {
   "cell_type": "markdown",
   "id": "b1fa055b-0b93-4d76-92a3-bea83e31e487",
   "metadata": {},
   "source": [
    "# Two pointer approach"
   ]
  },
  {
   "cell_type": "code",
   "execution_count": 14,
   "id": "c0d32020-ea8a-4ffe-bf02-d088326e66a2",
   "metadata": {},
   "outputs": [
    {
     "name": "stdout",
     "output_type": "stream",
     "text": [
      "this is palidriome list\n"
     ]
    }
   ],
   "source": [
    "#list is palindrom or not --> satrting and ending are same in palindrom\n",
    "#Two pointer approach\n",
    "mylist =[10 ,20, 30, 20, 10]\n",
    "index =0\n",
    "a=0\n",
    "end =len(mylist) -1\n",
    "while(index<end):\n",
    "    if(mylist[index]!=mylist[end]):\n",
    "        a=5\n",
    "        break\n",
    "    index+=1\n",
    "    end-=1\n",
    "\n",
    "if(a==0):\n",
    "    print(\"this is palidriome list\")\n",
    "else:\n",
    "    print('this is not palindrome')\n",
    "        "
   ]
  },
  {
   "cell_type": "code",
   "execution_count": 17,
   "id": "c6502b75-c538-445e-84b4-e3a67b6be909",
   "metadata": {},
   "outputs": [
    {
     "name": "stdout",
     "output_type": "stream",
     "text": [
      "this is palindrome string\n"
     ]
    }
   ],
   "source": [
    "#\"mama\"len\n",
    "#do we have this is string is palindrome or not\n",
    "str= 'mamam'\n",
    "a=0\n",
    "index =0\n",
    "end =len(str)-1\n",
    "while(index<end):\n",
    "    if(str[index]!=str[end]):\n",
    "        a=5\n",
    "        break\n",
    "    index+=1\n",
    "    end-=1\n",
    "if(a==0):\n",
    "    print('this is palindrome string')\n",
    "else:\n",
    "    print('this is not palindome str')"
   ]
  },
  {
   "cell_type": "code",
   "execution_count": null,
   "id": "8e37a2dd-329c-4eda-85dd-b25aeaf0def6",
   "metadata": {},
   "outputs": [],
   "source": []
  },
  {
   "cell_type": "markdown",
   "id": "694d36c2-fce6-429e-94db-35ac074784ac",
   "metadata": {},
   "source": [
    "# swapping"
   ]
  },
  {
   "cell_type": "code",
   "execution_count": 18,
   "id": "b78f3fc7-eb1f-46a9-bd3b-253b28dd5f05",
   "metadata": {},
   "outputs": [
    {
     "name": "stdout",
     "output_type": "stream",
     "text": [
      "20 10\n"
     ]
    }
   ],
   "source": [
    "a=10\n",
    "b=20\n",
    "temp =a\n",
    "a=b\n",
    "b=temp\n",
    "print(a , b)"
   ]
  },
  {
   "cell_type": "markdown",
   "id": "96bea36c-4afe-45b5-96fe-9dd89282559a",
   "metadata": {},
   "source": [
    "# reverse the list without reverse function and other "
   ]
  },
  {
   "cell_type": "code",
   "execution_count": 23,
   "id": "87fa6f06-f64d-4957-b901-23fb73ad3a7d",
   "metadata": {},
   "outputs": [
    {
     "name": "stdout",
     "output_type": "stream",
     "text": [
      "[50, 40, 30, 20, 10]\n"
     ]
    }
   ],
   "source": [
    "mylist=[10,20,30,40,50]\n",
    "start =0\n",
    "end =len(mylist)-1\n",
    "while(start<end):\n",
    "    temp=mylist[start]\n",
    "    mylist[start] =mylist[end]\n",
    "    mylist[end]=temp\n",
    "    start+=1\n",
    "    end-=1\n",
    "print(mylist)"
   ]
  },
  {
   "cell_type": "markdown",
   "id": "f695e66f-4bb6-49d9-bfb4-11be88552968",
   "metadata": {},
   "source": [
    "# maximum value in list without ma xfunction"
   ]
  },
  {
   "cell_type": "code",
   "execution_count": 24,
   "id": "1971130f-d5a7-4b28-b851-07ebde585643",
   "metadata": {},
   "outputs": [
    {
     "name": "stdout",
     "output_type": "stream",
     "text": [
      "400\n"
     ]
    }
   ],
   "source": [
    "numbers = [10, 20, 4, 400, 50]\n",
    "max =10\n",
    "for i in numbers:\n",
    "   if i>max:\n",
    "    max =i\n",
    "print(f\"{max}\")"
   ]
  },
  {
   "cell_type": "markdown",
   "id": "c3244444-723b-4a30-9285-06d3d7b1c6a8",
   "metadata": {},
   "source": [
    "# Second maximum in list"
   ]
  },
  {
   "cell_type": "code",
   "execution_count": 25,
   "id": "7744bb2b-35a0-4e46-919e-02d1e6d109e0",
   "metadata": {},
   "outputs": [
    {
     "name": "stdout",
     "output_type": "stream",
     "text": [
      "second max 10\n",
      "second max 20\n",
      "400 50\n"
     ]
    }
   ],
   "source": [
    "max1=mylist[0]\n",
    "smax =0\n",
    "mylist=[10,20,3,400,50]\n",
    "for i in mylist:\n",
    "    if (i>max1):\n",
    "        smax=max1\n",
    "        max1=i\n",
    "        print(max1 , smax)\n",
    "    elif(i>smax):\n",
    "        smax =i\n",
    "        print(\"second max\" , smax)"
   ]
  },
  {
   "cell_type": "code",
   "execution_count": 26,
   "id": "0c0707da-5b93-43b1-80bc-dc653a5f88e6",
   "metadata": {},
   "outputs": [],
   "source": [
    "#after a split function in a string they give output as a list\n"
   ]
  },
  {
   "cell_type": "code",
   "execution_count": 28,
   "id": "b5914361-06fa-4bfd-a5b3-c06a8977dbfa",
   "metadata": {},
   "outputs": [
    {
     "name": "stdout",
     "output_type": "stream",
     "text": [
      "hey\n",
      "hello\n",
      "tushar\n"
     ]
    }
   ],
   "source": [
    "s ='hey hello tushar'\n",
    "for word in s.split(\" \"):\n",
    "    print(word)"
   ]
  },
  {
   "cell_type": "code",
   "execution_count": 29,
   "id": "53db4280-6f95-414e-bee8-6e3f91ef87c2",
   "metadata": {},
   "outputs": [],
   "source": [
    "#agar string ke sath split --> list\n",
    "#aur list ko string main convert karna hain split ke sath join function use karte hain\n"
   ]
  },
  {
   "cell_type": "code",
   "execution_count": 31,
   "id": "ad4daf21-b5a9-46f3-92c7-03b39a34c741",
   "metadata": {},
   "outputs": [],
   "source": [
    "#'- ' join(x) =x =s.split()"
   ]
  },
  {
   "cell_type": "code",
   "execution_count": 32,
   "id": "447de1a3-5c52-4c50-bfb0-792b66054e08",
   "metadata": {},
   "outputs": [],
   "source": [
    "# \"heyy\"\n",
    "#[h , he , heyy , e , ey , eyy , y , yy, , y]\n",
    "\n",
    "#[10 ,2 ,3, 4, 5,7]\n",
    "#[10 , 12 , 15, 20 , 27] #running sum\n",
    "\n",
    "#[10,20,10 ,60 ,7]\n",
    "#[20 ,60 ,7]\n",
    "\n",
    "#'khokho' ,'abab'\n",
    "#symmetric\n",
    "\n",
    "#learning assigment\n",
    "#what is dictionary \n",
    "#why we use dictionartry over the lia\n"
   ]
  },
  {
   "cell_type": "code",
   "execution_count": 33,
   "id": "9449d0b5-9442-4f25-8609-adefeeeaf486",
   "metadata": {},
   "outputs": [],
   "source": []
  },
  {
   "cell_type": "code",
   "execution_count": null,
   "id": "44d9eb27-8c20-456f-b9df-c1caff388961",
   "metadata": {},
   "outputs": [],
   "source": []
  }
 ],
 "metadata": {
  "kernelspec": {
   "display_name": "Python 3 (ipykernel)",
   "language": "python",
   "name": "python3"
  },
  "language_info": {
   "codemirror_mode": {
    "name": "ipython",
    "version": 3
   },
   "file_extension": ".py",
   "mimetype": "text/x-python",
   "name": "python",
   "nbconvert_exporter": "python",
   "pygments_lexer": "ipython3",
   "version": "3.11.7"
  }
 },
 "nbformat": 4,
 "nbformat_minor": 5
}
