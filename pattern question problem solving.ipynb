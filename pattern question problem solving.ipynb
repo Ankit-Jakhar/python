{
 "cells": [
  {
   "cell_type": "code",
   "execution_count": 1,
   "id": "c9969a18-c425-45b5-b941-6c75f5efd3d8",
   "metadata": {},
   "outputs": [],
   "source": [
    "\n",
    "# Nested loop \n",
    "#parent loop (4) -->(0,1,2,3)\n",
    "#child loop (3) --> 0,1,2\n",
    "\n",
    "#step -1 i =0 , j =0\n",
    "# step -2 i =0 , j =1\n",
    "#so on\n",
    "#i =4\n",
    "#i =3\n",
    "#i=o  --> j --> 0,1,2\n",
    "#i=1 --> , j =0,1,2,\n",
    "#i=2 --> , j =0,1,2,\n",
    "#i=3 --> , j =0,1,2,\n"
   ]
  },
  {
   "cell_type": "code",
   "execution_count": 2,
   "id": "2d13da5f-f3d7-4e6a-bf6d-4d99e123df4e",
   "metadata": {},
   "outputs": [
    {
     "name": "stdout",
     "output_type": "stream",
     "text": [
      " i =0 , j =0\n",
      " i =0 , j =1\n",
      " i =0 , j =2\n",
      " i =1 , j =0\n",
      " i =1 , j =1\n",
      " i =1 , j =2\n",
      " i =2 , j =0\n",
      " i =2 , j =1\n",
      " i =2 , j =2\n",
      " i =3 , j =0\n",
      " i =3 , j =1\n",
      " i =3 , j =2\n"
     ]
    }
   ],
   "source": [
    "for i in range(4):\n",
    "    for j in range(3):\n",
    "        print(f\" i ={i} , j ={j}\")"
   ]
  },
  {
   "cell_type": "code",
   "execution_count": 3,
   "id": "2abea0fe-3c07-4cb3-8b87-53feadd84bd6",
   "metadata": {},
   "outputs": [],
   "source": [
    "# pattern "
   ]
  },
  {
   "cell_type": "code",
   "execution_count": null,
   "id": "36a11451-8ce0-45f0-8ec8-a1f2da0a2e65",
   "metadata": {},
   "outputs": [],
   "source": []
  },
  {
   "cell_type": "code",
   "execution_count": 6,
   "id": "7abdcc2d-bb4f-4393-936f-ce43533ca51b",
   "metadata": {},
   "outputs": [
    {
     "name": "stdout",
     "output_type": "stream",
     "text": [
      "-----\n",
      "----\n",
      "---\n",
      "--\n",
      "-\n",
      "\n",
      "-\n",
      "--\n",
      "---\n",
      "----\n",
      "-----\n"
     ]
    }
   ],
   "source": [
    "for i in range(5,0,-1):\n",
    "    print(i * \"-\")\n",
    "for i in range(0,6):\n",
    "     print(i* \"-\")"
   ]
  },
  {
   "cell_type": "code",
   "execution_count": 8,
   "id": "a0c3e119-cb5f-4042-a830-0fa8b69ddc8a",
   "metadata": {},
   "outputs": [
    {
     "name": "stdout",
     "output_type": "stream",
     "text": [
      "-----\n",
      "-- -\n",
      "---\n",
      "--\n",
      "-\n"
     ]
    }
   ],
   "source": [
    "for i in range(5,0,-1):\n",
    "    if (i==4):\n",
    "        print(2*(\"-\")+\" \" +\"-\" )\n",
    "    else :\n",
    "        print(i*\"-\")\n"
   ]
  },
  {
   "cell_type": "code",
   "execution_count": 9,
   "id": "d0d0e32d-db73-4d7d-92f2-de73963fb375",
   "metadata": {},
   "outputs": [
    {
     "name": "stdout",
     "output_type": "stream",
     "text": [
      "-----\n",
      "-- -\n",
      "-\n",
      "--\n",
      "-\n"
     ]
    }
   ],
   "source": [
    "for i in range(5,0,-1):\n",
    "    if (i==4):\n",
    "        print(2*(\"-\")+\" \" +\"-\" )\n",
    "    elif(i==3):\n",
    "        print(1*\"-\")\n",
    "    else :\n",
    "        print(i*\"-\")"
   ]
  },
  {
   "cell_type": "code",
   "execution_count": 10,
   "id": "99f3ab65-5bdf-435e-80d3-411ba476bce7",
   "metadata": {},
   "outputs": [
    {
     "name": "stdout",
     "output_type": "stream",
     "text": [
      "-----\n",
      "-- -\n",
      "-\n",
      "----\n",
      "-----\n"
     ]
    }
   ],
   "source": [
    "for i in range(5,0,-1):\n",
    "    if (i==4):\n",
    "        print(2*(\"-\")+\" \" +\"-\" )\n",
    "    elif(i==3):\n",
    "        print(1*\"-\")\n",
    "    elif(i==2):\n",
    "        print(4*\"-\")\n",
    "    elif(i==1):\n",
    "        print(5*\"-\")\n",
    "    else :\n",
    "        print(i*\"-\")"
   ]
  },
  {
   "cell_type": "code",
   "execution_count": 18,
   "id": "e6345f5d-6aa4-42ac-b9d6-f753280fd828",
   "metadata": {},
   "outputs": [
    {
     "name": "stdout",
     "output_type": "stream",
     "text": [
      "*\n",
      "**\n",
      "* *\n",
      "*  *\n",
      "*   *\n",
      "******\n"
     ]
    }
   ],
   "source": [
    "#hollow right angle\n",
    "for i in range(1,7):\n",
    "    if(i==3):\n",
    "        print(\"*\"+\" \" +\"*\")\n",
    "    elif(i==4):\n",
    "          print(\"*\"+2*\" \" +\"*\")\n",
    "    elif(i==5):\n",
    "          print(\"*\"+3*\" \"+\"*\")\n",
    "    else:\n",
    "        print(i*(\"*\"))\n"
   ]
  },
  {
   "cell_type": "code",
   "execution_count": 1,
   "id": "e02dcec5-868e-4591-9f5c-9ad671639945",
   "metadata": {},
   "outputs": [
    {
     "name": "stdin",
     "output_type": "stream",
     "text": [
      "Enter the number of rows:  4\n"
     ]
    },
    {
     "name": "stdout",
     "output_type": "stream",
     "text": [
      "* \n",
      "* * \n",
      "*   * \n",
      "* * * * \n"
     ]
    }
   ],
   "source": [
    "n = int(input(\"Enter the number of rows: \"))\n",
    "\n",
    "for i in range(1, n + 1):\n",
    "    for j in range(1, i + 1):\n",
    "        if j == 1 or j == i or i == n:\n",
    "            print(\"*\", end=\" \")\n",
    "        else:\n",
    "            print(\" \", end=\" \")\n",
    "    print()\n"
   ]
  },
  {
   "cell_type": "code",
   "execution_count": 2,
   "id": "1b5075b1-eca9-4558-98c5-de41445581db",
   "metadata": {},
   "outputs": [
    {
     "name": "stdin",
     "output_type": "stream",
     "text": [
      "Enter the number of rows:  5\n"
     ]
    },
    {
     "name": "stdout",
     "output_type": "stream",
     "text": [
      "* \n",
      "* * \n",
      "*   * \n",
      "*     * \n",
      "* * * * * \n"
     ]
    }
   ],
   "source": [
    "n = int(input(\"Enter the number of rows: \"))\n",
    "\n",
    "for i in range(1, n + 1):\n",
    "    for j in range(1, i + 1):\n",
    "        if j == 1 or j == i or i == n:\n",
    "            print(\"*\", end=\" \")\n",
    "        else:\n",
    "            print(\" \", end=\" \")\n",
    "    print()\n",
    "\n"
   ]
  },
  {
   "cell_type": "code",
   "execution_count": 3,
   "id": "df03b591-e911-4ccb-8d93-dc7f09d37b6b",
   "metadata": {},
   "outputs": [],
   "source": [
    "#pyramid pattern"
   ]
  },
  {
   "cell_type": "code",
   "execution_count": 6,
   "id": "b3b32a67-1dd2-4ad5-880e-a8e1d10a159d",
   "metadata": {},
   "outputs": [
    {
     "name": "stdout",
     "output_type": "stream",
     "text": [
      "    *\n",
      "   ***\n",
      "  *****\n",
      " *******\n",
      "*********\n"
     ]
    }
   ],
   "source": [
    "n = 5  \n",
    "\n",
    "for i in range(1, n + 1):\n",
    "    for j in range(n - i):\n",
    "        print(\" \", end=\"\")\n",
    "    for k in range(2 * i - 1):\n",
    "        print(\"*\", end=\"\")\n",
    "    print()  "
   ]
  },
  {
   "cell_type": "code",
   "execution_count": null,
   "id": "b0d07a46-2199-4bea-8f6d-b388c29fc170",
   "metadata": {},
   "outputs": [],
   "source": [
    "    "
   ]
  }
 ],
 "metadata": {
  "kernelspec": {
   "display_name": "Python 3 (ipykernel)",
   "language": "python",
   "name": "python3"
  },
  "language_info": {
   "codemirror_mode": {
    "name": "ipython",
    "version": 3
   },
   "file_extension": ".py",
   "mimetype": "text/x-python",
   "name": "python",
   "nbconvert_exporter": "python",
   "pygments_lexer": "ipython3",
   "version": "3.11.7"
  }
 },
 "nbformat": 4,
 "nbformat_minor": 5
}
